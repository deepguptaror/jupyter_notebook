{
 "cells": [
  {
   "cell_type": "markdown",
   "id": "fbbae316-c0ab-4360-8eaa-1c364aea4286",
   "metadata": {},
   "source": [
    "# Data Science Tools and Ecosystem"
   ]
  },
  {
   "cell_type": "markdown",
   "id": "dfaa7896-76e9-48b3-919b-1a31d0b7feb9",
   "metadata": {},
   "source": [
    "# In this notebook, Data Science Tools and Ecosystem are summarized."
   ]
  },
  {
   "cell_type": "markdown",
   "id": "fb5bb202-3ffd-4be4-8e08-a2b837a38df3",
   "metadata": {},
   "source": [
    "** Objectives: **\n",
    "* List popular languages for Data Science.\n",
    "* what is JupyterNotebook and JupyterLab\n",
    "* What is Git and GitHub\n",
    "* What is git repositories"
   ]
  },
  {
   "cell_type": "markdown",
   "id": "89e734f8-bcd4-4550-a30f-a0ca77529683",
   "metadata": {},
   "source": [
    "# Some of the popular languages that Data Scientists use are:\n",
    "1. python\n",
    "2. R\n",
    "3. Julia\n",
    "4. JavaScript"
   ]
  },
  {
   "cell_type": "markdown",
   "id": "793d3b54-7f8b-4a6a-9249-51505f87d739",
   "metadata": {},
   "source": [
    "Some of the commonly used libraries used by Data Scientists include:\n",
    "1. Panda\n",
    "2. Numpy\n",
    "3. Matplotlib"
   ]
  },
  {
   "cell_type": "markdown",
   "id": "f9b9e982-6c7c-43f2-be04-cc01db9d2af8",
   "metadata": {},
   "source": [
    "|Data Science Tools|\n",
    "|:-----------------|\n",
    "|JupyterLab|\n",
    "|Rstudio|\n",
    "|JupyterLite|"
   ]
  },
  {
   "cell_type": "markdown",
   "id": "c9d20b6c-eec6-4a86-a489-5b4907d4cb8a",
   "metadata": {},
   "source": [
    "# Below are a few examples of evaluating arithmetic expressions in Python."
   ]
  },
  {
   "cell_type": "code",
   "execution_count": 4,
   "id": "c631f13a-5247-4f2c-a5e7-f6082f77e02f",
   "metadata": {},
   "outputs": [
    {
     "data": {
      "text/plain": [
       "17"
      ]
     },
     "execution_count": 4,
     "metadata": {},
     "output_type": "execute_result"
    }
   ],
   "source": [
    "# This a simple arithmetic expression to mutiply then add integers\n",
    "(3*4)+5\n"
   ]
  },
  {
   "cell_type": "code",
   "execution_count": 3,
   "id": "7ba7a3df-115b-4fd4-bb48-057718d0a95a",
   "metadata": {},
   "outputs": [
    {
     "data": {
      "text/plain": [
       "3.3333333333333335"
      ]
     },
     "execution_count": 3,
     "metadata": {},
     "output_type": "execute_result"
    }
   ],
   "source": [
    "# This will convert 200 minutes to hours by diving by 60\n",
    "\n",
    "200/60"
   ]
  },
  {
   "cell_type": "markdown",
   "id": "36615c7c-4f28-4885-abb1-847d412a8854",
   "metadata": {},
   "source": [
    "## Author in H2 style heading.\n",
    "name: Deep Gupta "
   ]
  }
 ],
 "metadata": {
  "kernelspec": {
   "display_name": "Python 3 (ipykernel)",
   "language": "python",
   "name": "python3"
  },
  "language_info": {
   "codemirror_mode": {
    "name": "ipython",
    "version": 3
   },
   "file_extension": ".py",
   "mimetype": "text/x-python",
   "name": "python",
   "nbconvert_exporter": "python",
   "pygments_lexer": "ipython3",
   "version": "3.12.8"
  }
 },
 "nbformat": 4,
 "nbformat_minor": 5
}
